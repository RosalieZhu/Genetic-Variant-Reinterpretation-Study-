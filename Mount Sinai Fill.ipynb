{
 "cells": [
  {
   "cell_type": "code",
   "execution_count": 1,
   "metadata": {},
   "outputs": [],
   "source": [
    "import pandas as pd\n",
    "import numpy as np\n",
    "import xlrd\n",
    "import xlsxwriter\n",
    "import warnings\n",
    "warnings.filterwarnings(\"ignore\")"
   ]
  },
  {
   "cell_type": "code",
   "execution_count": 2,
   "metadata": {},
   "outputs": [],
   "source": [
    "def replace_email(NYC):\n",
    "    NYC = NYC[pd.notnull(NYC['Name'])]\n",
    "    MS_NYC = NYC[NYC['Hospital/ University Affiliation'].str.contains('Mount Sinai', na = False, case = False)]\n",
    "    MS_NYC_idx = NYC['Hospital/ University Affiliation'].str.contains('Mount Sinai', na = False, case = False)\n",
    "    MS_NYC['First'], MS_NYC['Last'] = MS_NYC['Name'].str.split(' ', 1).str\n",
    "    first = MS_NYC['First'].str.lower()\n",
    "    last = MS_NYC['Last'].str.lower()\n",
    "    NYC['Email'][MS_NYC_idx] = first + '.' + last + '@mountsinai.org'\n",
    "    return(NYC)"
   ]
  },
  {
   "cell_type": "code",
   "execution_count": 3,
   "metadata": {},
   "outputs": [],
   "source": [
    "Onco_NYC = pd.read_excel('Doctor_Summary.xlsx', sheet_name = 'Onco_NYC')\n",
    "Cardio_NYC = pd.read_excel('Doctor_Summary.xlsx', sheet_name = 'Cardio_NYC')\n",
    "Neuro_NYC = pd.read_excel('Doctor_Summary.xlsx', sheet_name = 'Neuro_NYC')\n",
    "Onco_AA = pd.read_excel('Doctor_Summary.xlsx', sheet_name = 'Onco_AA')\n",
    "Cardio_AA = pd.read_excel('Doctor_Summary.xlsx', sheet_name = 'Cardio_AA')\n",
    "Neuro_AA = pd.read_excel('Doctor_Summary.xlsx', sheet_name = 'Neuro_AA')\n",
    "Onco_Nashville = pd.read_excel('Doctor_Summary.xlsx', sheet_name = 'Onco_Nashville')\n",
    "Cardio_Nashville = pd.read_excel('Doctor_Summary.xlsx', sheet_name = 'Cardio_Nashville')\n",
    "Neuro_Nashville = pd.read_excel('Doctor_Summary.xlsx', sheet_name = 'Neuro_Nashville')"
   ]
  },
  {
   "cell_type": "code",
   "execution_count": 4,
   "metadata": {},
   "outputs": [],
   "source": [
    "Onco_NYC = replace_email(Onco_NYC)\n",
    "Cardio_NYC = replace_email(Cardio_NYC)\n",
    "Neuro_NYC = replace_email(Neuro_NYC)"
   ]
  },
  {
   "cell_type": "code",
   "execution_count": 5,
   "metadata": {},
   "outputs": [],
   "source": [
    "# Create a Pandas Excel writer using XlsxWriter as the engine.\n",
    "doctor = pd.ExcelWriter('doctor_summary_new.xlsx', engine='xlsxwriter')\n",
    "\n",
    "# Write each dataframe to a different worksheet.\n",
    "Onco_NYC.to_excel(doctor, sheet_name = 'Onco_NYC')\n",
    "Cardio_NYC.to_excel(doctor, sheet_name = 'Cardio_NYC')\n",
    "Neuro_NYC.to_excel(doctor, sheet_name = 'Neuro_NYC')\n",
    "Onco_AA.to_excel(doctor, sheet_name = 'Onco_AA')\n",
    "Cardio_AA.to_excel(doctor, sheet_name = 'Cardio_AA')\n",
    "Neuro_AA.to_excel(doctor, sheet_name = 'Neuro_AA')\n",
    "Onco_Nashville.to_excel(doctor, sheet_name = 'Onco_Nashville')\n",
    "Cardio_Nashville.to_excel(doctor, sheet_name = 'Cardio_Nashville')\n",
    "Neuro_Nashville.to_excel(doctor, sheet_name = 'Neuro_Nashville')\n",
    "\n",
    "# Close the Pandas Excel writer and output the Excel file.\n",
    "doctor.save()"
   ]
  },
  {
   "cell_type": "code",
   "execution_count": null,
   "metadata": {},
   "outputs": [],
   "source": []
  }
 ],
 "metadata": {
  "kernelspec": {
   "display_name": "Python 3",
   "language": "python",
   "name": "python3"
  },
  "language_info": {
   "codemirror_mode": {
    "name": "ipython",
    "version": 3
   },
   "file_extension": ".py",
   "mimetype": "text/x-python",
   "name": "python",
   "nbconvert_exporter": "python",
   "pygments_lexer": "ipython3",
   "version": "3.6.8"
  }
 },
 "nbformat": 4,
 "nbformat_minor": 2
}
